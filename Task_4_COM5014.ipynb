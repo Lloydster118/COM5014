{
  "nbformat": 4,
  "nbformat_minor": 0,
  "metadata": {
    "colab": {
      "provenance": [],
      "authorship_tag": "ABX9TyOTOU+OLWrR5xOf/NCxIj42",
      "include_colab_link": true
    },
    "kernelspec": {
      "name": "python3",
      "display_name": "Python 3"
    },
    "language_info": {
      "name": "python"
    }
  },
  "cells": [
    {
      "cell_type": "markdown",
      "metadata": {
        "id": "view-in-github",
        "colab_type": "text"
      },
      "source": [
        "<a href=\"https://colab.research.google.com/github/Lloydster118/COM5014/blob/main/Task_4_COM5014.ipynb\" target=\"_parent\"><img src=\"https://colab.research.google.com/assets/colab-badge.svg\" alt=\"Open In Colab\"/></a>"
      ]
    },
    {
      "cell_type": "code",
      "execution_count": 1,
      "metadata": {
        "colab": {
          "base_uri": "https://localhost:8080/"
        },
        "id": "xenYhWWm0elV",
        "outputId": "3c9e1c40-5bca-4780-feb6-cbc63c967b4f"
      },
      "outputs": [
        {
          "output_type": "stream",
          "name": "stdout",
          "text": [
            "Performance on 1000-node Graph:\n",
            "BFS Execution Time: 0.002252 seconds, Path Length: 9\n",
            "DFS Execution Time: 0.002588 seconds, Path Length: 355\n"
          ]
        }
      ],
      "source": [
        "import networkx as nx\n",
        "import time\n",
        "from collections import deque\n",
        "\n",
        "# Generate a random graph with 1000 nodes and a branching factor of ~3\n",
        "num_nodes = 1000\n",
        "G = nx.erdos_renyi_graph(num_nodes, 0.003, directed=True)\n",
        "\n",
        "# Select random start and goal nodes\n",
        "start_node = 0\n",
        "goal_node = num_nodes - 1\n",
        "\n",
        "# BFS Implementation\n",
        "def bfs(graph, start, goal):\n",
        "    queue = deque([(start, [start])])\n",
        "    visited = set()\n",
        "    while queue:\n",
        "        node, path = queue.popleft()\n",
        "        if node == goal:\n",
        "            return path\n",
        "        if node in visited:\n",
        "            continue\n",
        "        visited.add(node)\n",
        "        for neighbor in graph.neighbors(node):\n",
        "            queue.append((neighbor, path + [neighbor]))\n",
        "    return None\n",
        "\n",
        "# DFS Implementation\n",
        "def dfs(graph, start, goal):\n",
        "    stack = [(start, [start])]\n",
        "    visited = set()\n",
        "    while stack:\n",
        "        node, path = stack.pop()\n",
        "        if node == goal:\n",
        "            return path\n",
        "        if node in visited:\n",
        "            continue\n",
        "        visited.add(node)\n",
        "        for neighbor in graph.neighbors(node):\n",
        "            stack.append((neighbor, path + [neighbor]))\n",
        "    return None\n",
        "\n",
        "# Measure BFS performance\n",
        "start_time_bfs = time.time()\n",
        "bfs_path = bfs(G, start_node, goal_node)\n",
        "bfs_time = time.time() - start_time_bfs\n",
        "\n",
        "# Measure DFS performance\n",
        "start_time_dfs = time.time()\n",
        "dfs_path = dfs(G, start_node, goal_node)\n",
        "dfs_time = time.time() - start_time_dfs\n",
        "\n",
        "# Print results\n",
        "print(\"Performance on 1000-node Graph:\")\n",
        "print(f\"BFS Execution Time: {bfs_time:.6f} seconds, Path Length: {len(bfs_path) if bfs_path else 'No Path Found'}\")\n",
        "print(f\"DFS Execution Time: {dfs_time:.6f} seconds, Path Length: {len(dfs_path) if dfs_path else 'No Path Found'}\")\n"
      ]
    }
  ]
}