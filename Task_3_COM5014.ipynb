{
  "nbformat": 4,
  "nbformat_minor": 0,
  "metadata": {
    "colab": {
      "provenance": [],
      "authorship_tag": "ABX9TyNU4KN4/PKKEW/bevxML8MA",
      "include_colab_link": true
    },
    "kernelspec": {
      "name": "python3",
      "display_name": "Python 3"
    },
    "language_info": {
      "name": "python"
    }
  },
  "cells": [
    {
      "cell_type": "markdown",
      "metadata": {
        "id": "view-in-github",
        "colab_type": "text"
      },
      "source": [
        "<a href=\"https://colab.research.google.com/github/Lloydster118/COM5014/blob/main/Task_3_COM5014.ipynb\" target=\"_parent\"><img src=\"https://colab.research.google.com/assets/colab-badge.svg\" alt=\"Open In Colab\"/></a>"
      ]
    },
    {
      "cell_type": "code",
      "execution_count": 1,
      "metadata": {
        "colab": {
          "base_uri": "https://localhost:8080/"
        },
        "id": "-BIVjREngT0Q",
        "outputId": "da875a41-ada6-42a4-b124-f01df4a4affb"
      },
      "outputs": [
        {
          "output_type": "stream",
          "name": "stdout",
          "text": [
            "Maze Size | BFS Time (s) | BFS Memory (KB) | DFS Time (s) | DFS Memory (KB)\n",
            "------------------------------------------------------------------\n",
            "Small    | 0.000142     | 2.12 KB       | 0.000121     | 1.01 KB\n",
            "Medium   | 0.000146     | 2.25 KB       | 0.000169     | 1.20 KB\n",
            "Large    | 0.000478     | 4.93 KB       | 0.000777     | 6.95 KB\n"
          ]
        }
      ],
      "source": [
        "from collections import deque\n",
        "import time\n",
        "import tracemalloc\n",
        "\n",
        "# Define small, medium, and large mazes\n",
        "small_maze = [\n",
        "    [0, 1, 0],\n",
        "    [0, 0, 0],\n",
        "    [1, 0, 0]\n",
        "]\n",
        "\n",
        "medium_maze = [\n",
        "    [0, 1, 0, 0, 0],\n",
        "    [0, 1, 1, 1, 0],\n",
        "    [0, 0, 0, 1, 0],\n",
        "    [1, 1, 0, 1, 0],\n",
        "    [0, 0, 0, 0, 0]\n",
        "]\n",
        "\n",
        "large_maze = [\n",
        "    [0, 1, 0, 0, 0, 1, 0, 0, 0],\n",
        "    [0, 1, 0, 1, 0, 1, 0, 1, 0],\n",
        "    [0, 0, 0, 1, 0, 0, 0, 1, 0],\n",
        "    [1, 1, 1, 1, 1, 1, 0, 1, 0],\n",
        "    [0, 0, 0, 0, 0, 0, 0, 0, 0],\n",
        "    [0, 1, 1, 1, 1, 1, 1, 1, 0],\n",
        "    [0, 0, 0, 0, 0, 0, 0, 0, 0]\n",
        "]\n",
        "\n",
        "# Define possible moves (down, up, right, left)\n",
        "moves = [(1, 0), (-1, 0), (0, 1), (0, -1)]\n",
        "\n",
        "# BFS Implementation\n",
        "def bfs(maze, start, goal):\n",
        "    queue = deque([(start, [start])])\n",
        "    visited = set()\n",
        "    while queue:\n",
        "        (x, y), path = queue.popleft()\n",
        "        if (x, y) == goal:\n",
        "            return path\n",
        "        if (x, y) in visited:\n",
        "            continue\n",
        "        visited.add((x, y))\n",
        "        for dx, dy in moves:\n",
        "            nx, ny = x + dx, y + dy\n",
        "            if 0 <= nx < len(maze) and 0 <= ny < len(maze[0]) and maze[nx][ny] == 0:\n",
        "                queue.append(((nx, ny), path + [(nx, ny)]))\n",
        "    return None\n",
        "\n",
        "# DFS Implementation\n",
        "def dfs(maze, start, goal):\n",
        "    stack = [(start, [start])]\n",
        "    visited = set()\n",
        "    while stack:\n",
        "        (x, y), path = stack.pop()\n",
        "        if (x, y) == goal:\n",
        "            return path\n",
        "        if (x, y) in visited:\n",
        "            continue\n",
        "        visited.add((x, y))\n",
        "        for dx, dy in moves:\n",
        "            nx, ny = x + dx, y + dy\n",
        "            if 0 <= nx < len(maze) and 0 <= ny < len(maze[0]) and maze[nx][ny] == 0:\n",
        "                stack.append(((nx, ny), path + [(nx, ny)]))\n",
        "    return None\n",
        "\n",
        "# Define function to measure time and memory usage\n",
        "def measure_performance(search_algorithm, maze, start, goal):\n",
        "    tracemalloc.start()\n",
        "    start_time = time.time()\n",
        "    path = search_algorithm(maze, start, goal)\n",
        "    execution_time = time.time() - start_time\n",
        "    current, peak = tracemalloc.get_traced_memory()\n",
        "    tracemalloc.stop()\n",
        "    return execution_time, peak / 1024, path  # Convert memory usage to KB\n",
        "\n",
        "# Start and goal positions for all mazes\n",
        "small_start, small_goal = (0, 0), (2, 2)\n",
        "medium_start, medium_goal = (0, 0), (4, 4)\n",
        "large_start, large_goal = (0, 0), (6, 8)\n",
        "\n",
        "# Measure BFS performance\n",
        "bfs_small = measure_performance(bfs, small_maze, small_start, small_goal)\n",
        "bfs_medium = measure_performance(bfs, medium_maze, medium_start, medium_goal)\n",
        "bfs_large = measure_performance(bfs, large_maze, large_start, large_goal)\n",
        "\n",
        "# Measure DFS performance\n",
        "dfs_small = measure_performance(dfs, small_maze, small_start, small_goal)\n",
        "dfs_medium = measure_performance(dfs, medium_maze, medium_start, medium_goal)\n",
        "dfs_large = measure_performance(dfs, large_maze, large_start, large_goal)\n",
        "\n",
        "# Print results\n",
        "print(\"Maze Size | BFS Time (s) | BFS Memory (KB) | DFS Time (s) | DFS Memory (KB)\")\n",
        "print(\"------------------------------------------------------------------\")\n",
        "print(f\"Small    | {bfs_small[0]:.6f}     | {bfs_small[1]:.2f} KB       | {dfs_small[0]:.6f}     | {dfs_small[1]:.2f} KB\")\n",
        "print(f\"Medium   | {bfs_medium[0]:.6f}     | {bfs_medium[1]:.2f} KB       | {dfs_medium[0]:.6f}     | {dfs_medium[1]:.2f} KB\")\n",
        "print(f\"Large    | {bfs_large[0]:.6f}     | {bfs_large[1]:.2f} KB       | {dfs_large[0]:.6f}     | {dfs_large[1]:.2f} KB\")\n"
      ]
    }
  ]
}